{
 "cells": [
  {
   "cell_type": "code",
   "execution_count": 1,
   "metadata": {},
   "outputs": [],
   "source": [
    "import tensorflow as tf\n",
    "sess = tf.Session()"
   ]
  },
  {
   "cell_type": "code",
   "execution_count": 2,
   "metadata": {},
   "outputs": [
    {
     "name": "stdout",
     "output_type": "stream",
     "text": [
      "[-0.58113885]\n",
      "[ 2.58113885]\n"
     ]
    }
   ],
   "source": [
    "a = tf.Variable([2.], tf.float32)\n",
    "b = tf.Variable([-4.], tf.float32)\n",
    "c = tf.Variable([-3.], tf.float32)\n",
    "\n",
    "root1 = ((-b) - (b**2 - 4*a*c)**0.5) / (2*a)\n",
    "root2 = ((-b) + (b**2 - 4*a*c)**0.5) / (2*a)\n",
    "init = tf.global_variables_initializer()\n",
    "sess.run(init)\n",
    "print(sess.run(root1))\n",
    "print(sess.run(root2))\n",
    "#print(sess.run(root1, {c:[-1, -2, -3, -4]}))\n",
    "#print(sess.run(root2, {c:[-1, -2, -3, -4]}))"
   ]
  },
  {
   "cell_type": "code",
   "execution_count": 3,
   "metadata": {},
   "outputs": [
    {
     "name": "stdout",
     "output_type": "stream",
     "text": [
      "[  6.5  11.   15.5  20. ]\n",
      "953.23\n",
      "[array([-0.91515517], dtype=float32), array([ 1.34473741], dtype=float32)]\n"
     ]
    }
   ],
   "source": [
    "# Implement a linear model with shorthand for tf.add() by using '+'\n",
    "# and tf.multiply with '*'\n",
    "\n",
    "b = tf.Variable([2.], tf.float32)\n",
    "m = tf.Variable([4.5], tf.float32)\n",
    "x = tf.placeholder(tf.float32)\n",
    "\n",
    "linear_model = m * x + b\n",
    "\n",
    "\n",
    "# initialize again\n",
    "init = tf.global_variables_initializer()\n",
    "sess.run(init)\n",
    "\n",
    "print(sess.run(linear_model, {x:[1, 2, 3, 4]}))\n",
    "\n",
    "#create loss function\n",
    "y = tf.placeholder(tf.float32)\n",
    "squared_deltas = tf.square(linear_model - y)\n",
    "loss = tf.reduce_sum(squared_deltas)\n",
    "print(sess.run(loss, {x:[1, 2, 3, 4], y:[.8, -.5, -1.3, -2.5]}))\n",
    "\n",
    "# Optimize with Gradient Descent; set your learning rate\n",
    "optimizer = tf.train.GradientDescentOptimizer(0.01)\n",
    "train = optimizer.minimize(loss)\n",
    "\n",
    "# reset values to incorrect defaults.\n",
    "sess.run(init) \n",
    "\n",
    "# Loop for 100 iterations, trying to find optimal values\n",
    "for i in range(100):\n",
    "    sess.run(train, {x:[1, 2, 3, 4], y:[.8, -.5, -1.3, -2.5]})\n",
    "\n",
    "print(sess.run([m, b]))"
   ]
  }
 ],
 "metadata": {
  "kernelspec": {
   "display_name": "Python 2",
   "language": "python",
   "name": "python2"
  },
  "language_info": {
   "codemirror_mode": {
    "name": "ipython",
    "version": 2
   },
   "file_extension": ".py",
   "mimetype": "text/x-python",
   "name": "python",
   "nbconvert_exporter": "python",
   "pygments_lexer": "ipython2",
   "version": "2.7.15"
  }
 },
 "nbformat": 4,
 "nbformat_minor": 2
}
